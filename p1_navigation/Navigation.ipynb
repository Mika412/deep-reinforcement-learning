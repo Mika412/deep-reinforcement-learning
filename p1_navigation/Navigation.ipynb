{
 "cells": [
  {
   "cell_type": "markdown",
   "metadata": {},
   "source": [
    "# Navigation\n",
    "\n",
    "---\n",
    "\n",
    "In this notebook, you will learn how to use the Unity ML-Agents environment for the first project of the [Deep Reinforcement Learning Nanodegree](https://www.udacity.com/course/deep-reinforcement-learning-nanodegree--nd893).\n",
    "\n",
    "### 1. Start the Environment\n",
    "\n",
    "We begin by importing some necessary packages.  If the code cell below returns an error, please revisit the project instructions to double-check that you have installed [Unity ML-Agents](https://github.com/Unity-Technologies/ml-agents/blob/master/docs/Installation.md) and [NumPy](http://www.numpy.org/)."
   ]
  },
  {
   "cell_type": "code",
   "execution_count": 7,
   "metadata": {},
   "outputs": [],
   "source": [
    "from unityagents import UnityEnvironment\n",
    "import numpy as np"
   ]
  },
  {
   "cell_type": "markdown",
   "metadata": {},
   "source": [
    "Next, we will start the environment!  **_Before running the code cell below_**, change the `file_name` parameter to match the location of the Unity environment that you downloaded.\n",
    "\n",
    "- **Mac**: `\"path/to/Banana.app\"`\n",
    "- **Windows** (x86): `\"path/to/Banana_Windows_x86/Banana.exe\"`\n",
    "- **Windows** (x86_64): `\"path/to/Banana_Windows_x86_64/Banana.exe\"`\n",
    "- **Linux** (x86): `\"path/to/Banana_Linux/Banana.x86\"`\n",
    "- **Linux** (x86_64): `\"path/to/Banana_Linux/Banana.x86_64\"`\n",
    "- **Linux** (x86, headless): `\"path/to/Banana_Linux_NoVis/Banana.x86\"`\n",
    "- **Linux** (x86_64, headless): `\"path/to/Banana_Linux_NoVis/Banana.x86_64\"`\n",
    "\n",
    "For instance, if you are using a Mac, then you downloaded `Banana.app`.  If this file is in the same folder as the notebook, then the line below should appear as follows:\n",
    "```\n",
    "env = UnityEnvironment(file_name=\"Banana.app\")\n",
    "```"
   ]
  },
  {
   "cell_type": "code",
   "execution_count": 8,
   "metadata": {},
   "outputs": [
    {
     "name": "stderr",
     "output_type": "stream",
     "text": [
      "INFO:unityagents:\n",
      "'Academy' started successfully!\n",
      "Unity Academy name: Academy\n",
      "        Number of Brains: 1\n",
      "        Number of External Brains : 1\n",
      "        Lesson number : 0\n",
      "        Reset Parameters :\n",
      "\t\t\n",
      "Unity brain name: BananaBrain\n",
      "        Number of Visual Observations (per agent): 0\n",
      "        Vector Observation space type: continuous\n",
      "        Vector Observation space size (per agent): 37\n",
      "        Number of stacked Vector Observation: 1\n",
      "        Vector Action space type: discrete\n",
      "        Vector Action space size (per agent): 4\n",
      "        Vector Action descriptions: , , , \n"
     ]
    }
   ],
   "source": [
    "env = UnityEnvironment(file_name=\"Banana_Linux/Banana.app\")"
   ]
  },
  {
   "cell_type": "markdown",
   "metadata": {},
   "source": [
    "Environments contain **_brains_** which are responsible for deciding the actions of their associated agents. Here we check for the first brain available, and set it as the default brain we will be controlling from Python."
   ]
  },
  {
   "cell_type": "code",
   "execution_count": 9,
   "metadata": {},
   "outputs": [],
   "source": [
    "# get the default brain\n",
    "brain_name = env.brain_names[0]\n",
    "brain = env.brains[brain_name]"
   ]
  },
  {
   "cell_type": "markdown",
   "metadata": {},
   "source": [
    "### 2. Examine the State and Action Spaces\n",
    "\n",
    "The simulation contains a single agent that navigates a large environment.  At each time step, it has four actions at its disposal:\n",
    "- `0` - walk forward \n",
    "- `1` - walk backward\n",
    "- `2` - turn left\n",
    "- `3` - turn right\n",
    "\n",
    "The state space has `37` dimensions and contains the agent's velocity, along with ray-based perception of objects around agent's forward direction.  A reward of `+1` is provided for collecting a yellow banana, and a reward of `-1` is provided for collecting a blue banana. \n",
    "\n",
    "Run the code cell below to print some information about the environment."
   ]
  },
  {
   "cell_type": "code",
   "execution_count": 10,
   "metadata": {},
   "outputs": [
    {
     "name": "stdout",
     "output_type": "stream",
     "text": [
      "Number of agents: 1\n",
      "Number of actions: 4\n",
      "States look like: [1.         0.         0.         0.         0.84408134 0.\n",
      " 0.         1.         0.         0.0748472  0.         1.\n",
      " 0.         0.         0.25755    1.         0.         0.\n",
      " 0.         0.74177343 0.         1.         0.         0.\n",
      " 0.25854847 0.         0.         1.         0.         0.09355672\n",
      " 0.         1.         0.         0.         0.31969345 0.\n",
      " 0.        ]\n",
      "States have length: 37\n"
     ]
    }
   ],
   "source": [
    "# reset the environment\n",
    "env_info = env.reset(train_mode=True)[brain_name]\n",
    "\n",
    "# number of agents in the environment\n",
    "print('Number of agents:', len(env_info.agents))\n",
    "\n",
    "# number of actions\n",
    "action_size = brain.vector_action_space_size\n",
    "print('Number of actions:', action_size)\n",
    "\n",
    "# examine the state space \n",
    "state = env_info.vector_observations[0]\n",
    "print('States look like:', state)\n",
    "state_size = len(state)\n",
    "print('States have length:', state_size)"
   ]
  },
  {
   "cell_type": "markdown",
   "metadata": {},
   "source": [
    "### 3. Solution"
   ]
  },
  {
   "cell_type": "markdown",
   "metadata": {},
   "source": [
    "#### Imports"
   ]
  },
  {
   "cell_type": "code",
   "execution_count": 11,
   "metadata": {},
   "outputs": [],
   "source": [
    "from unityagents import UnityEnvironment\n",
    "import numpy as np\n",
    "from collections import deque\n",
    "import torch\n",
    "\n",
    "from dqn_agent import Agent\n",
    "import matplotlib.pyplot as plt\n",
    "%matplotlib inline"
   ]
  },
  {
   "cell_type": "markdown",
   "metadata": {},
   "source": [
    "#### Algorithm"
   ]
  },
  {
   "cell_type": "code",
   "execution_count": 12,
   "metadata": {},
   "outputs": [],
   "source": [
    "def dqn(n_episodes, max_t, eps_start, eps_end, eps_decay):    \n",
    "    scores = []                                               # list containing scores from each episode                 \n",
    "    scores_window = deque(maxlen=100)                         # store only the last 100 scores\n",
    "    eps = eps_start                                           # initialize epsilon (for epsilon-greedy policy)\n",
    "    last_average_score = -float('Inf')\n",
    "    for i_episode in range(1, n_episodes + 1):                # run n_episodes\n",
    "        env_info = env.reset(train_mode=True)[brain_name]     # reset the environment\n",
    "        state = env_info.vector_observations[0]               # get the initial state\n",
    "        score = 0                                             # initialize the score\n",
    "        \n",
    "        for t in range(max_t):                                # run for maximum of max_t timesteps \n",
    "            action = agent.act(state, eps)                    # select the action\n",
    "            env_info = env.step(action)[brain_name] \n",
    "            next_state = env_info.vector_observations[0]      # get the state\n",
    "            reward = env_info.rewards[0]                      # get the reward\n",
    "            done = env_info.local_done[0]                     # whether the episode is complete or not\n",
    "            \n",
    "            agent.step(state, action, reward, next_state, done)  # train the agent \n",
    "            score += reward                                      # update the score\n",
    "            \n",
    "            state = next_state                                   # update the state\n",
    "            if done:                                             # break if episode is complete\n",
    "                break\n",
    "        \n",
    "        scores_window.append(score)                # update the window of scores\n",
    "        scores.append(score)                       # update the list of scores\n",
    "        eps = max(eps_end, eps * eps_decay)        # modify epsilon\n",
    "        average_score = np.mean(scores_window)\n",
    "        print('\\rEpisode {} \\tAverage score: {: .2f}'.format(i_episode, average_score), end=\"\")\n",
    "        \n",
    "        if i_episode % 100 == 0:\n",
    "            print('\\rEpisode {} \\tAverage score: {: .2f}'.format(i_episode, average_score))\n",
    "            \n",
    "        if average_score >= 13 and average_score > last_average_score:      # check if environment is solved\n",
    "            print('\\nEnvironment solved in {: d} episodes!\\tAverage Score: {: .2f}'.format(i_episode - 100, average_score))\n",
    "            torch.save(agent.qnetwork_local.state_dict(), 'checkpoint.pth')\n",
    "            last_average_score = average_score\n",
    "    \n",
    "    return scores"
   ]
  },
  {
   "cell_type": "code",
   "execution_count": 13,
   "metadata": {},
   "outputs": [],
   "source": [
    "# Parameters\n",
    "n_episodes = 1000\n",
    "max_t = 2000\n",
    "eps_decay = 0.995\n",
    "eps_start = 1.0\n",
    "eps_end = 0.1"
   ]
  },
  {
   "cell_type": "code",
   "execution_count": 14,
   "metadata": {},
   "outputs": [],
   "source": [
    "# Initialize the agent \n",
    "agent = Agent(state_size=state_size, action_size=action_size, seed=0)"
   ]
  },
  {
   "cell_type": "code",
   "execution_count": 15,
   "metadata": {},
   "outputs": [
    {
     "name": "stdout",
     "output_type": "stream",
     "text": [
      "Episode 100 \tAverage score:  1.15\n",
      "Episode 200 \tAverage score:  5.15\n",
      "Episode 300 \tAverage score:  7.89\n",
      "Episode 400 \tAverage score:  10.92\n",
      "Episode 471 \tAverage score:  13.08\n",
      "Environment solved in  371 episodes!\tAverage Score:  13.08\n",
      "Episode 473 \tAverage score:  13.18\n",
      "Environment solved in  373 episodes!\tAverage Score:  13.18\n",
      "Episode 474 \tAverage score:  13.22\n",
      "Environment solved in  374 episodes!\tAverage Score:  13.22\n",
      "Episode 475 \tAverage score:  13.23\n",
      "Environment solved in  375 episodes!\tAverage Score:  13.23\n",
      "Episode 476 \tAverage score:  13.29\n",
      "Environment solved in  376 episodes!\tAverage Score:  13.29\n",
      "Episode 478 \tAverage score:  13.30\n",
      "Environment solved in  378 episodes!\tAverage Score:  13.30\n",
      "Episode 480 \tAverage score:  13.39\n",
      "Environment solved in  380 episodes!\tAverage Score:  13.39\n",
      "Episode 482 \tAverage score:  13.40\n",
      "Environment solved in  382 episodes!\tAverage Score:  13.40\n",
      "Episode 484 \tAverage score:  13.44\n",
      "Environment solved in  384 episodes!\tAverage Score:  13.44\n",
      "Episode 486 \tAverage score:  13.46\n",
      "Environment solved in  386 episodes!\tAverage Score:  13.46\n",
      "Episode 487 \tAverage score:  13.50\n",
      "Environment solved in  387 episodes!\tAverage Score:  13.50\n",
      "Episode 490 \tAverage score:  13.51\n",
      "Environment solved in  390 episodes!\tAverage Score:  13.51\n",
      "Episode 491 \tAverage score:  13.53\n",
      "Environment solved in  391 episodes!\tAverage Score:  13.53\n",
      "Episode 492 \tAverage score:  13.55\n",
      "Environment solved in  392 episodes!\tAverage Score:  13.55\n",
      "Episode 493 \tAverage score:  13.65\n",
      "Environment solved in  393 episodes!\tAverage Score:  13.65\n",
      "Episode 494 \tAverage score:  13.71\n",
      "Environment solved in  394 episodes!\tAverage Score:  13.71\n",
      "Episode 495 \tAverage score:  13.78\n",
      "Environment solved in  395 episodes!\tAverage Score:  13.78\n",
      "Episode 496 \tAverage score:  13.79\n",
      "Environment solved in  396 episodes!\tAverage Score:  13.79\n",
      "Episode 497 \tAverage score:  13.81\n",
      "Environment solved in  397 episodes!\tAverage Score:  13.81\n",
      "Episode 498 \tAverage score:  13.82\n",
      "Environment solved in  398 episodes!\tAverage Score:  13.82\n",
      "Episode 500 \tAverage score:  13.80\n",
      "Episode 502 \tAverage score:  13.84\n",
      "Environment solved in  402 episodes!\tAverage Score:  13.84\n",
      "Episode 509 \tAverage score:  13.92\n",
      "Environment solved in  409 episodes!\tAverage Score:  13.92\n",
      "Episode 510 \tAverage score:  14.04\n",
      "Environment solved in  410 episodes!\tAverage Score:  14.04\n",
      "Episode 511 \tAverage score:  14.06\n",
      "Environment solved in  411 episodes!\tAverage Score:  14.06\n",
      "Episode 512 \tAverage score:  14.09\n",
      "Environment solved in  412 episodes!\tAverage Score:  14.09\n",
      "Episode 514 \tAverage score:  14.10\n",
      "Environment solved in  414 episodes!\tAverage Score:  14.10\n",
      "Episode 515 \tAverage score:  14.19\n",
      "Environment solved in  415 episodes!\tAverage Score:  14.19\n",
      "Episode 516 \tAverage score:  14.20\n",
      "Environment solved in  416 episodes!\tAverage Score:  14.20\n",
      "Episode 519 \tAverage score:  14.21\n",
      "Environment solved in  419 episodes!\tAverage Score:  14.21\n",
      "Episode 521 \tAverage score:  14.27\n",
      "Environment solved in  421 episodes!\tAverage Score:  14.27\n",
      "Episode 526 \tAverage score:  14.29\n",
      "Environment solved in  426 episodes!\tAverage Score:  14.29\n",
      "Episode 527 \tAverage score:  14.37\n",
      "Environment solved in  427 episodes!\tAverage Score:  14.37\n",
      "Episode 528 \tAverage score:  14.39\n",
      "Environment solved in  428 episodes!\tAverage Score:  14.39\n",
      "Episode 529 \tAverage score:  14.42\n",
      "Environment solved in  429 episodes!\tAverage Score:  14.42\n",
      "Episode 531 \tAverage score:  14.43\n",
      "Environment solved in  431 episodes!\tAverage Score:  14.43\n",
      "Episode 533 \tAverage score:  14.44\n",
      "Environment solved in  433 episodes!\tAverage Score:  14.44\n",
      "Episode 534 \tAverage score:  14.52\n",
      "Environment solved in  434 episodes!\tAverage Score:  14.52\n",
      "Episode 535 \tAverage score:  14.59\n",
      "Environment solved in  435 episodes!\tAverage Score:  14.59\n",
      "Episode 536 \tAverage score:  14.60\n",
      "Environment solved in  436 episodes!\tAverage Score:  14.60\n",
      "Episode 600 \tAverage score:  14.11\n",
      "Episode 700 \tAverage score:  14.02\n",
      "Episode 800 \tAverage score:  14.10\n",
      "Episode 900 \tAverage score:  13.22\n",
      "Episode 1000 \tAverage score:  13.37\n"
     ]
    }
   ],
   "source": [
    "# Train the agent\n",
    "scores = dqn(n_episodes, max_t, eps_start, eps_end, eps_decay)"
   ]
  },
  {
   "cell_type": "code",
   "execution_count": 16,
   "metadata": {},
   "outputs": [
    {
     "data": {
      "image/png": "[encoded data removed]",
      "text/plain": [
       "<Figure size 432x288 with 1 Axes>"
      ]
     },
     "metadata": {
      "needs_background": "light"
     },
     "output_type": "display_data"
    }
   ],
   "source": [
    "# Plot the scores\n",
    "fig = plt.figure()\n",
    "ax = fig.add_subplot(111)\n",
    "plt.plot(np.arange(len(scores)), scores)\n",
    "plt.ylabel('Score')\n",
    "plt.xlabel('Episode #')\n",
    "plt.show()"
   ]
  },
  {
   "cell_type": "code",
   "execution_count": null,
   "metadata": {},
   "outputs": [],
   "source": []
  }
 ],
 "metadata": {
  "kernelspec": {
   "display_name": "Python 3",
   "language": "python",
   "name": "python3"
  },
  "language_info": {
   "codemirror_mode": {
    "name": "ipython",
    "version": 3
   },
   "file_extension": ".py",
   "mimetype": "text/x-python",
   "name": "python",
   "nbconvert_exporter": "python",
   "pygments_lexer": "ipython3",
   "version": "3.6.10"
  }
 },
 "nbformat": 4,
 "nbformat_minor": 2
}
